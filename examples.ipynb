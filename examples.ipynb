{
 "cells": [
  {
   "cell_type": "code",
   "execution_count": 2,
   "id": "b7463bd2-12df-47f3-b334-10369e30942d",
   "metadata": {},
   "outputs": [],
   "source": [
    "from islpy import *"
   ]
  },
  {
   "cell_type": "markdown",
   "id": "f53cb97e-e73a-4fe9-823b-14c339dfb472",
   "metadata": {},
   "source": [
    "# Python bindings for the integer set library (isl)\n",
    "\n",
    "This notebook illustrates some of the core functionality available in the integer set library (isl). You should refer to the corresponding documentation here:  \n",
    "[https://documen.tician.de/islpy/](https://documen.tician.de/islpy/)\n",
    "\n",
    "The two most important objects in isl are sets and maps."
   ]
  },
  {
   "cell_type": "markdown",
   "id": "8a4102af-255d-4ce7-97be-1577b907c3c8",
   "metadata": {},
   "source": [
    "# BasicSet\n",
    "\n",
    "A `BasicSet` is single convex domain:  \n",
    "[https://documen.tician.de/islpy/ref_set.html#islpy.BasicSet](https://documen.tician.de/islpy/ref_set.html#islpy.BasicSet)"
   ]
  },
  {
   "cell_type": "code",
   "execution_count": 3,
   "id": "e00dcffe-2825-4df0-97a8-102e8de41db9",
   "metadata": {},
   "outputs": [
    {
     "name": "stdout",
     "output_type": "stream",
     "text": [
      "[N] -> { [i, j] : 0 <= i <= N and 0 <= j <= N }\n"
     ]
    }
   ],
   "source": [
    "D = BasicSet('[N]->{[i,j] : 0<=i,j<=N}')\n",
    "\n",
    "print(D)"
   ]
  },
  {
   "cell_type": "code",
   "execution_count": null,
   "id": "c8e13afa-c1e8-44fc-86a6-44db2effbc48",
   "metadata": {},
   "outputs": [],
   "source": []
  }
 ],
 "metadata": {
  "kernelspec": {
   "display_name": "Python 3 (ipykernel)",
   "language": "python",
   "name": "python3"
  },
  "language_info": {
   "codemirror_mode": {
    "name": "ipython",
    "version": 3
   },
   "file_extension": ".py",
   "mimetype": "text/x-python",
   "name": "python",
   "nbconvert_exporter": "python",
   "pygments_lexer": "ipython3",
   "version": "3.12.4"
  }
 },
 "nbformat": 4,
 "nbformat_minor": 5
}
