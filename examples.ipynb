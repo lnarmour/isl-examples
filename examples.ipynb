{
 "cells": [
  {
   "cell_type": "code",
   "execution_count": 74,
   "id": "b7463bd2-12df-47f3-b334-10369e30942d",
   "metadata": {},
   "outputs": [],
   "source": [
    "from islpy import *"
   ]
  },
  {
   "cell_type": "markdown",
   "id": "f53cb97e-e73a-4fe9-823b-14c339dfb472",
   "metadata": {},
   "source": [
    "# Python bindings for the integer set library (isl)\n",
    "\n",
    "This notebook illustrates some of the core functionality available in the integer set library (isl). You should refer to the corresponding documentation here:  \n",
    "[https://documen.tician.de/islpy/](https://documen.tician.de/islpy/)\n",
    "\n",
    "The python bindings are effectively a python wrapper around the underlying isl library:  \n",
    "[https://libisl.sourceforge.io/manual.pdf](https://libisl.sourceforge.io/manual.pdf)\n",
    "\n",
    "The two most important objects in isl are sets and maps and there are three flavors of each."
   ]
  },
  {
   "cell_type": "markdown",
   "id": "8a4102af-255d-4ce7-97be-1577b907c3c8",
   "metadata": {},
   "source": [
    "# Sets\n",
    "\n",
    "There are three kinds of set objects in isl:\n",
    "* [`BasicSet`](https://documen.tician.de/islpy/ref_set.html#islpy.BasicSet): convex domains\n",
    "* [`Set`](https://documen.tician.de/islpy/ref_set.html#set): disjoint union of basic sets\n",
    "* [`UnionSet`](https://documen.tician.de/islpy/ref_set.html#union-set): disjoint union of sets\n",
    "\n",
    "\n",
    "Sets are defined by lists of constraints involving one or more dimensions. Dimensions are reference using `dim_type` objects:  \n",
    "[https://documen.tician.de/islpy/reference.html#symbolic-constants](https://documen.tician.de/islpy/reference.html#symbolic-constants)\n"
   ]
  },
  {
   "cell_type": "markdown",
   "id": "e6db190c",
   "metadata": {},
   "source": [
    "## Basic sets\n",
    "\n",
    "Consider the following convex 3D domain defining the $N$ by $N$ by $N$ cube in $\\mathbb{Z}^3$. In this example, there is 1 parameter constraint and 3 output constraints. Note that `dim_type.in_` don't have any meaning in set objects. These are used in maps below."
   ]
  },
  {
   "cell_type": "code",
   "execution_count": 75,
   "id": "b8e5f5c2",
   "metadata": {},
   "outputs": [
    {
     "name": "stdout",
     "output_type": "stream",
     "text": [
      "num params: 1\n",
      "num inputs: 0\n",
      "num outputs: 3\n",
      "num constants: 1\n"
     ]
    }
   ],
   "source": [
    "D = BasicSet('[N]->{[i,j,k] : 0<=i,j,k<=N}')\n",
    "\n",
    "nb_params = D.dim(dim_type.param)\n",
    "nb_in = D.dim(dim_type.in_)\n",
    "nb_out = D.dim(dim_type.out)\n",
    "nb_cst = D.dim(dim_type.cst)\n",
    "\n",
    "print('num params: {}'.format(nb_params))\n",
    "print('num inputs: {}'.format(nb_in))\n",
    "print('num outputs: {}'.format(nb_out))\n",
    "print('num constants: {}'.format(nb_cst))"
   ]
  },
  {
   "cell_type": "markdown",
   "id": "13245688",
   "metadata": {},
   "source": [
    "Note that there are six constraints. This corresponds to the fact that a cube has six faces."
   ]
  },
  {
   "cell_type": "code",
   "execution_count": 76,
   "id": "e00dcffe-2825-4df0-97a8-102e8de41db9",
   "metadata": {},
   "outputs": [
    {
     "name": "stdout",
     "output_type": "stream",
     "text": [
      "constraints:\n",
      "[N] -> { [i, j, k] : i >= 0 }\n",
      "[N] -> { [i, j, k] : j >= 0 }\n",
      "[N] -> { [i, j, k] : k >= 0 }\n",
      "[N] -> { [i, j, k] : N - i >= 0 }\n",
      "[N] -> { [i, j, k] : N - j >= 0 }\n",
      "[N] -> { [i, j, k] : N - k >= 0 }\n"
     ]
    }
   ],
   "source": [
    "print('constraints:')\n",
    "for c in D.get_constraints():\n",
    "    print(c)"
   ]
  },
  {
   "cell_type": "markdown",
   "id": "e382abed",
   "metadata": {},
   "source": [
    "Under the hood, the constraints are representated by two `Mat` (matrix) objects. One for the **equality** constraints and one for the **inequality** constraints.\n",
    "\n",
    "Each matrix contains one row per constraint, and each column represents each of the parameters, indices, and constant terms. In the example above, each matrix has 1+3+1 = 5 columns (for the \"N\" + \"i,j,k\" + constant terms). There are no equality constraints. `BasicSet` objects have functions to get the corresponding matrices, but you have specify the dimensions you want."
   ]
  },
  {
   "cell_type": "code",
   "execution_count": 77,
   "id": "70b4ee74",
   "metadata": {},
   "outputs": [],
   "source": [
    "ineq_matrix = D.inequalities_matrix(dim_type.param, dim_type.in_, dim_type.out, dim_type.cst)"
   ]
  },
  {
   "cell_type": "markdown",
   "id": "f643ac56",
   "metadata": {},
   "source": [
    "There is no out-of-box function to convert `Mat` objects to python primitive arrays. But we can define a simple helper function for this. In this example, the constraint $i \\ge 0$ is represented in the inequality constraint matrix with the row:  \n",
    "\n",
    "`[0,1,0,0,0]`\n",
    "\n",
    "where as the constraint $N-i \\ge 0$ is represented by the row:  \n",
    "\n",
    "`[1,-1,0,0,0]`"
   ]
  },
  {
   "cell_type": "code",
   "execution_count": 78,
   "id": "9e3afb95",
   "metadata": {},
   "outputs": [
    {
     "name": "stdout",
     "output_type": "stream",
     "text": [
      "constraints array (as Val objects)\n",
      "[\n",
      "  [Val(\"0\"), Val(\"1\"), Val(\"0\"), Val(\"0\"), Val(\"0\")]\n",
      "  [Val(\"0\"), Val(\"0\"), Val(\"1\"), Val(\"0\"), Val(\"0\")]\n",
      "  [Val(\"0\"), Val(\"0\"), Val(\"0\"), Val(\"1\"), Val(\"0\")]\n",
      "  [Val(\"1\"), Val(\"-1\"), Val(\"0\"), Val(\"0\"), Val(\"0\")]\n",
      "  [Val(\"1\"), Val(\"0\"), Val(\"-1\"), Val(\"0\"), Val(\"0\")]\n",
      "  [Val(\"1\"), Val(\"0\"), Val(\"0\"), Val(\"-1\"), Val(\"0\")]\n",
      "]\n",
      "constraints array (as longs)\n",
      "[\n",
      "  [0, 1, 0, 0, 0]\n",
      "  [0, 0, 1, 0, 0]\n",
      "  [0, 0, 0, 1, 0]\n",
      "  [1, -1, 0, 0, 0]\n",
      "  [1, 0, -1, 0, 0]\n",
      "  [1, 0, 0, -1, 0]\n",
      "]\n"
     ]
    }
   ],
   "source": [
    "# isl Mat elements are Val objects\n",
    "# isl Val objects represent rational numbers (i.e., ratios of integers), when the denominator is 1\n",
    "# the \"to_python\" function converts it to a long data type\n",
    "def to_array(matrix, as_long=False):\n",
    "    nb_rows = matrix.rows()\n",
    "    nb_cols = matrix.cols()\n",
    "    return [[matrix.get_element_val(i,j).to_python() if as_long else matrix.get_element_val(i,j) for j in range(nb_cols)] for i in range(nb_rows)]\n",
    "\n",
    "def pretty_print(array):\n",
    "    print('[')\n",
    "    [print('  {}'.format(row)) for row in array]\n",
    "    print(']')\n",
    "\n",
    "val_array = to_array(ineq_matrix)\n",
    "long_array = to_array(ineq_matrix, as_long=True)\n",
    "\n",
    "print('constraints array (as Val objects)')\n",
    "pretty_print(val_array)\n",
    "\n",
    "print('constraints array (as longs)')\n",
    "pretty_print(long_array)"
   ]
  },
  {
   "cell_type": "markdown",
   "id": "ef3f9cd8",
   "metadata": {},
   "source": [
    "## Sets\n",
    "\n",
    "Consider the following non-convex 3D domain defining the two $N$ by $N$ by $N$ cubes in $\\mathbb{Z}^3$."
   ]
  },
  {
   "cell_type": "code",
   "execution_count": 79,
   "id": "6f3e4b32",
   "metadata": {},
   "outputs": [],
   "source": [
    "D = Set('[N]->{[i,j,k] : 0<=i,j,k<N or N<=i,j,k<2N}')"
   ]
  },
  {
   "cell_type": "markdown",
   "id": "a2ca3f55",
   "metadata": {},
   "source": [
    "This set has two basic sets:"
   ]
  },
  {
   "cell_type": "code",
   "execution_count": 80,
   "id": "254f36ac",
   "metadata": {},
   "outputs": [
    {
     "name": "stdout",
     "output_type": "stream",
     "text": [
      "2\n"
     ]
    }
   ],
   "source": [
    "print(D.n_basic_set())"
   ]
  },
  {
   "cell_type": "code",
   "execution_count": 81,
   "id": "ddc48821",
   "metadata": {},
   "outputs": [
    {
     "name": "stdout",
     "output_type": "stream",
     "text": [
      "[N] -> { [i, j, k] : 0 <= i < N and 0 <= j < N and 0 <= k < N }\n",
      "[N] -> { [i, j, k] : N <= i < 2N and N <= j < 2N and N <= k < 2N }\n"
     ]
    }
   ],
   "source": [
    "for bs in D.get_basic_sets():\n",
    "    print(bs)"
   ]
  },
  {
   "cell_type": "markdown",
   "id": "1e51da50",
   "metadata": {},
   "source": [
    "Many of the operations on `BasicSet`s are also available on `Set`s. Notice that each `BasicSet` in a `Set` is the same \"type\" meaning they all have the same number of parameters and indices.\n",
    "\n",
    "The domains charaterized by `Set` objects can be \"named\" with `*_tuple_*` functions:"
   ]
  },
  {
   "cell_type": "code",
   "execution_count": 82,
   "id": "30072070",
   "metadata": {},
   "outputs": [
    {
     "name": "stdout",
     "output_type": "stream",
     "text": [
      "[N] -> { A[i, j, k] : (0 <= i < N and 0 <= j < N and 0 <= k < N) or (N <= i < 2N and N <= j < 2N and N <= k < 2N) }\n"
     ]
    }
   ],
   "source": [
    "named_D = D.set_tuple_name('A')\n",
    "print(named_D)"
   ]
  },
  {
   "cell_type": "markdown",
   "id": "7451a599",
   "metadata": {},
   "source": [
    "## UnionSets\n",
    "\n",
    "The union of a 2D basic set and a 3D basic set is not well defined by `Set` objects. To hold sets of different dimensionalities, `UnionSet`s are used.\n",
    "\n",
    "For example, consider the following union set which represents the 2D domain on the $ij$-plane denoted by the named set \"A\" and the 3D domain in the $ijk$-space denoted by the named set \"B\". These `UnionSet` objects are useful for representing program statement instances. Think of \"A\" and \"B\" as two statements appearing in some triply nested loop. We will think of this from a code generation perspective below.\n",
    "\n",
    "For now, just note that `UnionSet` represent unions of named `Set` objects."
   ]
  },
  {
   "cell_type": "code",
   "execution_count": 83,
   "id": "b7f15de4",
   "metadata": {},
   "outputs": [],
   "source": [
    "D = UnionSet('[N]->{A[i,j]: 0<=i,j<N; B[i,j,k] : 0<=i,j,k<N}')"
   ]
  },
  {
   "cell_type": "markdown",
   "id": "1ecb50bd",
   "metadata": {},
   "source": [
    "# Maps\n",
    "\n",
    "Before we can talk about code generation, we must talk about maps. Like sets, there are three kinds of map objects in isl:\n",
    "* [`BasicMap`](https://documen.tician.de/islpy/ref_set.html#basic-map): functions between convex domains\n",
    "* [`Map`](https://documen.tician.de/islpy/ref_set.html#map): functions between unions of similar convex domains\n",
    "* [`UnionMap`](https://documen.tician.de/islpy/ref_set.html#union-map): functions between unions of (dis)similar convex domains\n",
    "\n",
    "\n",
    "Like sets, maps are defined over inputs (domains) and outputs (ranges). Maps involve an additional dimension type, `dim_type.in_`.\n",
    "We will only illustrate a simple `Map` object and some functionality here. `UnionMaps` are useful in the context of code generation and will be shown in the next section.\n",
    "\n",
    "## Map\n",
    "\n",
    "Think of maps as functions from some domain to some range. Maps can be applied to sets to produce new sets.\n",
    "For example, consider the following map from the $ijk$-space to the 2D $ij$-plane defined. Think of this as the projection \"down onto\" the $ij$-plane."
   ]
  },
  {
   "cell_type": "code",
   "execution_count": 84,
   "id": "b47fd3aa",
   "metadata": {},
   "outputs": [
    {
     "name": "stdout",
     "output_type": "stream",
     "text": [
      "D: [N] -> { [i, j, k] : 0 <= i < N and 0 <= j < N and 0 <= k < N }\n",
      "D1: [N] -> { [i0, i1] : 0 <= i0 < N and 0 <= i1 < N }\n"
     ]
    }
   ],
   "source": [
    "# consider the same 3D cube domain\n",
    "D = Set('[N]->{[i,j,k] : 0<=i,j,k<N}')\n",
    "\n",
    "M = Map('[N]->{[i,j,k]->[i,j]}')\n",
    "\n",
    "# apply the map M to the domain D\n",
    "D1 = D.apply(M)\n",
    "\n",
    "print('D: {}'.format(D))\n",
    "print('D1: {}'.format(D1))"
   ]
  },
  {
   "cell_type": "markdown",
   "id": "6ab0c262",
   "metadata": {},
   "source": [
    "Notice that the index names have changed in the new set D1. This is because the output dimensions can be defined (generally) as any affine combination of the input dimensions.\n",
    "\n",
    "For example, consider the map:"
   ]
  },
  {
   "cell_type": "code",
   "execution_count": 85,
   "id": "59a72e72",
   "metadata": {},
   "outputs": [
    {
     "name": "stdout",
     "output_type": "stream",
     "text": [
      "D: [N] -> { [i, j, k] : 0 <= i < N and 0 <= j < N and 0 <= k < N }\n",
      "D2: [N] -> { [i0, i1] : exists (e0: -33 - N + i0 + 2i1 <= 6e0 <= -34 + i0 + 2i1 and -34 + i0 + 2i1 <= 7e0 <= -35 + N + i0 + 2i1 and -119 + 3i0 + 7i1 <= 21e0 <= -120 + N + 3i0 + 7i1) }\n"
     ]
    }
   ],
   "source": [
    "M1 = Map('[N]->{[i,j,k]->[2i+7j,17-i+3k]}')\n",
    "\n",
    "D2 = D.apply(M1)\n",
    "\n",
    "print('D: {}'.format(D))\n",
    "print('D2: {}'.format(D2))"
   ]
  },
  {
   "cell_type": "markdown",
   "id": "adf6b4b6",
   "metadata": {},
   "source": [
    "In general, the names of the output dimensions don't a nice interpretation relative to the inputs, so isl generates index names \"i0\", \"i1\", etc.\n",
    "\n",
    "Also notice that the image of D by M1 here involves constraints with the \"exists\" clause. These correspond to \"existentially quantifiers\". Ctrl+f for \"existential\" in the isl manual linked above for more information. These constraints are represented by `dim_type.div` dimensions."
   ]
  },
  {
   "cell_type": "markdown",
   "id": "f1cc07fb",
   "metadata": {},
   "source": []
  },
  {
   "cell_type": "markdown",
   "id": "08009aba",
   "metadata": {},
   "source": [
    "# Code generation\n",
    "\n",
    "The isl library also supports code generation. This illustrates a simple example. Consider the following domain (same as above), defined by a `UnionSet`."
   ]
  },
  {
   "cell_type": "code",
   "execution_count": 86,
   "id": "25e3c9e2",
   "metadata": {},
   "outputs": [
    {
     "name": "stdout",
     "output_type": "stream",
     "text": [
      "[N] -> { A[i, j] : 0 <= i < N and 0 <= j < N; B[i, j, k] : 0 <= i < N and 0 <= j < N and 0 <= k < N }\n",
      "[N] -> { A[i, j] -> [i, j, 0, 0]; B[i, j, k] -> [i, j, 1, k] }\n"
     ]
    }
   ],
   "source": [
    "D = UnionSet('[N]->{A[i,j]: 0<=i,j<N; B[i,j,k] : 0<=i,j,k<N}')\n",
    "M = UnionMap('''[N]->{\n",
    "    A[i,j]->[i,j,0,0];\n",
    "    B[i,j,k]->[i,j,1,k];\n",
    "}''')\n",
    "\n",
    "print(D)\n",
    "print(M)"
   ]
  },
  {
   "cell_type": "markdown",
   "id": "3ef48ffb",
   "metadata": {},
   "source": []
  }
 ],
 "metadata": {
  "kernelspec": {
   "display_name": "virtual-islpy",
   "language": "python",
   "name": "python3"
  },
  "language_info": {
   "codemirror_mode": {
    "name": "ipython",
    "version": 3
   },
   "file_extension": ".py",
   "mimetype": "text/x-python",
   "name": "python",
   "nbconvert_exporter": "python",
   "pygments_lexer": "ipython3",
   "version": "3.13.0"
  }
 },
 "nbformat": 4,
 "nbformat_minor": 5
}
